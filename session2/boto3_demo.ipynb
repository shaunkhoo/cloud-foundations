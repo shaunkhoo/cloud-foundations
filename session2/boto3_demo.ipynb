{
 "cells": [
  {
   "cell_type": "markdown",
   "source": [
    "# Uploading and Downloading to an S3 bucket with boto3"
   ],
   "metadata": {}
  },
  {
   "cell_type": "code",
   "execution_count": 1,
   "source": [
    "import boto3\n",
    "from urllib import parse\n",
    "\n",
    "# Use Amazon S3\n",
    "s3 = boto3.client('s3')"
   ],
   "outputs": [],
   "metadata": {}
  },
  {
   "cell_type": "markdown",
   "source": [
    "## Download an SSE-S3 encrypted file"
   ],
   "metadata": {}
  },
  {
   "cell_type": "code",
   "execution_count": 3,
   "source": [
    "s3.download_file(\n",
    "    Bucket = \"demo-yourname-s3-bucket\", # Your bucket name goes here\n",
    "    Key = \"index.html\", # Name of the object you wish to download\n",
    "    Filename = \"index_new.html\", # Name of the file you would like to save to\n",
    ")"
   ],
   "outputs": [],
   "metadata": {}
  },
  {
   "cell_type": "markdown",
   "source": [
    "## Edit, then upload the file with the same SSE-S3 encryption"
   ],
   "metadata": {}
  },
  {
   "cell_type": "code",
   "execution_count": 4,
   "source": [
    "tags = {\"Name\": \"Your Name\"}\n",
    "\n",
    "s3.upload_file(\n",
    "    Filename = \"index_new.html\",\n",
    "    Bucket = \"demo-yourname-s3-bucket\", # Your bucket name goes here\n",
    "    Key = \"index.html\", # Name of the object you wish to upload or overwrite\n",
    "    ExtraArgs = {\n",
    "        \"ContentType\": \"text/html\",\n",
    "        \"ServerSideEncryption\": \"AES256\", # Required for SSE-S3 encryption\n",
    "        \"Tagging\": parse.urlencode(tags), # Tag the object with your name\n",
    "        }\n",
    ")"
   ],
   "outputs": [],
   "metadata": {}
  },
  {
   "cell_type": "code",
   "execution_count": null,
   "source": [],
   "outputs": [],
   "metadata": {}
  }
 ],
 "metadata": {
  "orig_nbformat": 4,
  "language_info": {
   "name": "python",
   "version": "3.9.6",
   "mimetype": "text/x-python",
   "codemirror_mode": {
    "name": "ipython",
    "version": 3
   },
   "pygments_lexer": "ipython3",
   "nbconvert_exporter": "python",
   "file_extension": ".py"
  },
  "kernelspec": {
   "name": "python3",
   "display_name": "Python 3.9.6 64-bit ('boto': conda)"
  },
  "interpreter": {
   "hash": "9a432f11b283ec5c887018a0752eeeb20d87bfb7b2cda5c0124a92409240bab0"
  }
 },
 "nbformat": 4,
 "nbformat_minor": 2
}