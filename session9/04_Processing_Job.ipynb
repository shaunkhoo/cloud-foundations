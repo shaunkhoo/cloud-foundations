{
 "cells": [
  {
   "cell_type": "code",
   "execution_count": null,
   "metadata": {},
   "outputs": [],
   "source": [
    "%%writefile xgboost_process_script.py\n",
    "\n",
    "# Execute this cell first to write this script to your local directory.\n",
    "\n",
    "import pandas\n",
    "\n",
    "# This method filters out the column at index 1, which is the crime data.\n",
    "\n",
    "def filter_crime_data(input_data_path):\n",
    "    with open(input_data_path, 'r') as f:\n",
    "        df = pandas.read_csv(f)\n",
    "    df.drop(df.columns[[1]], axis=1)\n",
    "    return df\n",
    "\n",
    "# The main method takes in data at '/opt/ml/processing/input/data/train.csv'\n",
    "# and outputs it as a csv to '/opt/ml/processing/output/data_processed'\n",
    "\n",
    "if __name__ == \"__main__\":\n",
    "    filtered_data = filter_crime_data('/opt/ml/processing/input/data/train.csv')\n",
    "    filtered_data.to_csv('/opt/ml/processing/output/data_processed')"
   ]
  },
  {
   "cell_type": "code",
   "execution_count": null,
   "metadata": {
    "pycharm": {
     "name": "#%%\n"
    }
   },
   "outputs": [],
   "source": [
    "import boto3\n",
    "\n",
    "from sagemaker import get_execution_role\n",
    "from sagemaker.sklearn.processing import SKLearnProcessor\n",
    "from sagemaker.processing import ProcessingInput, ProcessingOutput\n",
    "\n",
    "role = get_execution_role()\n",
    "\n",
    "sklearn_processor = SKLearnProcessor(framework_version='0.20.0',\n",
    "                                     role=role,\n",
    "                                     instance_type='ml.m5.large',\n",
    "                                     instance_count=1)\n",
    "\n",
    "\n",
    "# You will need to replace the 'source' code with the location of the dataset you want to process.\n",
    "\n",
    "sklearn_processor.run(code='xgboost_process_script.py',\n",
    "                        inputs=[ProcessingInput(\n",
    "                        source=#'s3://qs-sagemaker-demo-data/train.csv',\n",
    "                        destination='/opt/ml/processing/input/data/')],\n",
    "                      outputs=[ProcessingOutput(source='/opt/ml/processing/output')]\n",
    "                     )"
   ]
  },
  {
   "cell_type": "code",
   "execution_count": null,
   "metadata": {},
   "outputs": [],
   "source": []
  }
 ],
 "metadata": {
  "kernelspec": {
   "display_name": "conda_python3",
   "language": "python",
   "name": "conda_python3"
  },
  "language_info": {
   "codemirror_mode": {
    "name": "ipython",
    "version": 3
   },
   "file_extension": ".py",
   "mimetype": "text/x-python",
   "name": "python",
   "nbconvert_exporter": "python",
   "pygments_lexer": "ipython3",
   "version": "3.6.13"
  }
 },
 "nbformat": 4,
 "nbformat_minor": 1
}
